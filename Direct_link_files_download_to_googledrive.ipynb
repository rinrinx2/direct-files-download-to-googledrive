{
  "nbformat": 4,
  "nbformat_minor": 0,
  "metadata": {
    "colab": {
      "name": "Direct link files download to googledrive.ipynb",
      "provenance": [],
      "collapsed_sections": [],
      "include_colab_link": true
    },
    "kernelspec": {
      "name": "python3",
      "display_name": "Python 3"
    },
    "language_info": {
      "name": "python"
    }
  },
  "cells": [
    {
      "cell_type": "markdown",
      "metadata": {
        "id": "view-in-github",
        "colab_type": "text"
      },
      "source": [
        "<a href=\"https://colab.research.google.com/github/jakiya99/direct-files-download-to-googledrive/blob/main/Direct_link_files_download_to_googledrive.ipynb\" target=\"_parent\"><img src=\"https://colab.research.google.com/assets/colab-badge.svg\" alt=\"Open In Colab\"/></a>"
      ]
    },
    {
      "cell_type": "markdown",
      "metadata": {
        "id": "cJzY3hfpLwPj"
      },
      "source": [
        "\n",
        "# ⎝乡direct links <font color='greenr'>upload </font> to  <font color='lightblue'>Google drive</font><img src='https://www.clipartmax.com/png/full/220-2204620_%C2%A0-google-docs-sheets-and-slides.png' height=\"90\" />   BY'-  <font color='red'> ツ  jคK¡ץA   ⎝⎝乡 </font>\n",
        "\n"
      ]
    },
    {
      "cell_type": "markdown",
      "metadata": {
        "id": "3rEItGYsNqvm"
      },
      "source": [
        "\n",
        "\n",
        "# <font color='pink'> Tools  </font> \n",
        "*   <font color='gree'> Google Account  </font>\n",
        "# <font color='pink'>**Extra**  </font> \n",
        "#<font color='red'>*RUNTIME DisconectedError Fix=*https://github.com/jakiya99/prevent-colab-disconnecting\n",
        "\n",
        "function ConnectButton() \n",
        "{\n",
        "\n",
        " console.log(\"Working\");\n",
        "\n",
        " document.queryselector(\"#connect\").click()\n",
        "\n",
        "}\n",
        "\n",
        "setInterval(ConnectButton,6000);\n",
        "\n"
      ]
    },
    {
      "cell_type": "markdown",
      "metadata": {
        "id": "eqVwKRRQycuK"
      },
      "source": [
        "# 1.Mount <font color='yellow'> Google drive <img src='https://www.clipartmax.com/png/full/220-2204620_%C2%A0-google-docs-sheets-and-slides.png' height=\"90\" />"
      ]
    },
    {
      "cell_type": "code",
      "metadata": {
        "id": "OUhsEj8g-ssf"
      },
      "source": [
        "from google.colab import drive\n",
        "drive.mount('/content/drive')"
      ],
      "execution_count": null,
      "outputs": []
    },
    {
      "cell_type": "code",
      "metadata": {
        "id": "Fil_bHuAD8S3"
      },
      "source": [
        "!ls ./drive/MyDrive/    #after sucessfully mounted onedrive then show your Googledrive folders and files"
      ],
      "execution_count": null,
      "outputs": []
    },
    {
      "cell_type": "markdown",
      "metadata": {
        "id": "PC4vG0gOySge"
      },
      "source": [
        "#2.Paste <font color='orange'> Direct download link  <img src='https://iconarchive.com/download/i99352/dtafalonso/android-lollipop/Downloads.ico' height=\"100\" alt=\"RcloneLab\"/>"
      ]
    },
    {
      "cell_type": "code",
      "metadata": {
        "id": "Va-xAQ4kyO4Q"
      },
      "source": [
        "!wget -P ./drive/Mydrive \"https://nodejs.org/dist/v14.16.0/node-v14.16.0-x64.msi\"        #example=  !wget -P downloads https://abcd123.com/music.mp3          \n",
        "\n",
        "                          #!wget -P downloads --user=\"type your username here\" --password=\"type password here\" 'paste link here'"
      ],
      "execution_count": null,
      "outputs": []
    },
    {
      "cell_type": "markdown",
      "metadata": {
        "id": "UnG9eT1X1eou"
      },
      "source": [
        "not downloding? <font color='red'>error 403 Foribedden</font> or <font color='red'>error500  </font> links try this,\n",
        "\n",
        "!wget -P downloads --user=\"type your username here\" --password=\"type password here\" 'paste link here' "
      ]
    }
  ]
}
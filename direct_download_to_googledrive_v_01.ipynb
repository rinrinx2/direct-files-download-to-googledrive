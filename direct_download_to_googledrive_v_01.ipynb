{
  "nbformat": 4,
  "nbformat_minor": 0,
  "metadata": {
    "colab": {
      "name": "direct download to googledrive v.01.ipynb",
      "provenance": [],
      "collapsed_sections": [],
      "toc_visible": true,
      "include_colab_link": true
    },
    "kernelspec": {
      "name": "python3",
      "display_name": "Python 3"
    },
    "language_info": {
      "name": "python"
    }
  },
  "cells": [
    {
      "cell_type": "markdown",
      "metadata": {
        "id": "view-in-github",
        "colab_type": "text"
      },
      "source": [
        "<a href=\"https://colab.research.google.com/github/jakiya99/direct-files-download-to-googledrive/blob/main/direct_download_to_googledrive_v_01.ipynb\" target=\"_parent\"><img src=\"https://colab.research.google.com/assets/colab-badge.svg\" alt=\"Open In Colab\"/></a>"
      ]
    },
    {
      "cell_type": "markdown",
      "metadata": {
        "id": "cJzY3hfpLwPj"
      },
      "source": [
        "\n",
        "# ⎝乡**direct links <font color='greenr'>upload </font> to googledrive <font color='lightblue'>*Python version*</font>      BY'-  <font color='red'> ツ  jคK¡ץA   ⎝⎝乡 </font>\n",
        "\n",
        "\n"
      ]
    },
    {
      "cell_type": "markdown",
      "metadata": {
        "id": "eqVwKRRQycuK"
      },
      "source": [
        "# 1.Mount <font color='yellow'> Google drive <img src='https://www.clipartmax.com/png/full/220-2204620_%C2%A0-google-docs-sheets-and-slides.png' height=\"90\" />"
      ]
    },
    {
      "cell_type": "code",
      "metadata": {
        "id": "OUhsEj8g-ssf"
      },
      "source": [
        "from google.colab import drive\n",
        "drive.mount('/content/drive')"
      ],
      "execution_count": null,
      "outputs": []
    },
    {
      "cell_type": "code",
      "metadata": {
        "id": "Fil_bHuAD8S3"
      },
      "source": [
        "!ls ./drive/MyDrive/    #after sucessfully mounted onedrive then show your Googledrive folders and files"
      ],
      "execution_count": null,
      "outputs": []
    },
    {
      "cell_type": "markdown",
      "metadata": {
        "id": "PC4vG0gOySge"
      },
      "source": [
        "#2.Paste <font color='orange'> Direct download link  <img src='https://iconarchive.com/download/i99352/dtafalonso/android-lollipop/Downloads.ico' height=\"100\" alt=\"RcloneLab\"/>"
      ]
    },
    {
      "cell_type": "code",
      "metadata": {
        "id": "HTwtY-b8xivY"
      },
      "source": [
        "!pip install wget"
      ],
      "execution_count": null,
      "outputs": []
    },
    {
      "cell_type": "code",
      "metadata": {
        "id": "U6vLhsBSzhCN"
      },
      "source": [
        "import wget\n",
        "\n",
        "link = input(\"Paste direct link \\n\") \n",
        "path = '/content/drive/MyDrive/'\n",
        "link = wget.download(link,out = path)\n",
        "print(link)\n",
        "\n"
      ],
      "execution_count": null,
      "outputs": []
    }
  ]
}